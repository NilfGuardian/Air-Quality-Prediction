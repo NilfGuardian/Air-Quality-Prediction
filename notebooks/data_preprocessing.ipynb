{
 "cells": [
  {
   "cell_type": "code",
   "execution_count": 5,
   "id": "data-preprocessing",
   "metadata": {},
   "outputs": [
    {
     "name": "stdout",
     "output_type": "stream",
     "text": [
      "Processed data saved.\n"
     ]
    }
   ],
   "source": [
    "import pandas as pd\n",
    "from sklearn.impute import SimpleImputer\n",
    "import os\n",
    "import shutil  # To handle file removal\n",
    "\n",
    "# Load the dataset\n",
    "data = pd.read_csv('../data/raw/city_day.csv')\n",
    "\n",
    "# Drop unnecessary columns\n",
    "data = data.drop(['City', 'Date', 'AQI_Bucket'], axis=1)\n",
    "\n",
    "# Handle missing values\n",
    "imputer = SimpleImputer(strategy='mean')\n",
    "data_imputed = pd.DataFrame(imputer.fit_transform(data), columns=data.columns)\n",
    "\n",
    "# Ensure the processed directory exists\n",
    "output_dir = '../data/processed'\n",
    "\n",
    "# Check if the path exists and handle conflicts\n",
    "if os.path.exists(output_dir):\n",
    "    if not os.path.isdir(output_dir):  # If it's not a directory, remove it\n",
    "        os.remove(output_dir)\n",
    "os.makedirs(output_dir, exist_ok=True)  # Create the directory\n",
    "\n",
    "# Save the processed data\n",
    "data_imputed.to_csv(f'{output_dir}/processed_data.csv', index=False)\n",
    "print(\"Processed data saved.\")"
   ]
  }
 ],
 "metadata": {
  "kernelspec": {
   "display_name": "Python 3",
   "language": "python",
   "name": "python3"
  },
  "language_info": {
   "codemirror_mode": {
    "name": "ipython",
    "version": 3
   },
   "file_extension": ".py",
   "mimetype": "text/x-python",
   "name": "python",
   "nbconvert_exporter": "python",
   "pygments_lexer": "ipython3",
   "version": "3.13.3"
  }
 },
 "nbformat": 4,
 "nbformat_minor": 5
}
